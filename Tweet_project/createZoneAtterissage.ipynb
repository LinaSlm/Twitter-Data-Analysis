{
 "cells": [
  {
   "cell_type": "code",
   "execution_count": 1,
   "metadata": {},
   "outputs": [],
   "source": [
    "#importation des modules et librairies nécessaires \n",
    "\n",
    "import random\n",
    "import string\n",
    "import pandas as pd\n",
    "import json\n",
    "import re\n",
    "\n",
    "\n",
    "# Création d'utilisateurs aléatoires\n",
    "utilisateurs = []\n",
    "caracteres = string.ascii_letters + string.digits + \"-_~.^\"\n",
    "\n",
    "for i in range(250):\n",
    "    nom = \"\"\n",
    "    for i in range(random.randint(3,15)):\n",
    "        nom += random.choice(caracteres)\n",
    "    utilisateurs.append(nom)\n",
    "\n",
    "\n",
    "#J'ai transformé le fichier json en fichier texte puisqu'il était incorrect\n",
    "#cette partie va servir à le transformer en un fichier json\n",
    "\n",
    "#on ouvre le fichier en mode lecture \n",
    "#on utilise l'encoding utf-8 afin d'éliminer tous les caractères spéciaux\n",
    "with open(\"jeuTweet/aitweets.txt\",\"r\", encoding = 'utf-8') as file:\n",
    "\n",
    "    #on récupère les lignes dans une liste de chaines de caractères\n",
    "    donnees = file.readlines()\n",
    "\n",
    "#ici, on convertit tous les éléments de la liste en dictionnaires\n",
    "data = [json.loads(i) for i in donnees]\n",
    "\n",
    "#On nettoie les tweets en supprimant les caractères spéciaux\n",
    "motif = re.compile(r\"[^\\w\\s!\\\"#$%&'()*+,-./:;<=>?@\\[\\\\\\]^_`{|}~]+\")\n",
    "for i in data:\n",
    "    i['Auteur'] = random.choice(utilisateurs)\n",
    "    i['TweetText'] = re.sub(motif, '', i['TweetText'])\n",
    "\n",
    "#on ouvre un fichier json en mode écriture et on y ajoute tous les dictionnaires\n",
    "with open(\"jeuTweet/zone_atterissage.json\",\"w\") as file:\n",
    "    json.dump(data, file, indent = 4)"
   ]
  }
 ],
 "metadata": {
  "kernelspec": {
   "display_name": "Python 3",
   "language": "python",
   "name": "python3"
  },
  "language_info": {
   "codemirror_mode": {
    "name": "ipython",
    "version": 3
   },
   "file_extension": ".py",
   "mimetype": "text/x-python",
   "name": "python",
   "nbconvert_exporter": "python",
   "pygments_lexer": "ipython3",
   "version": "3.11.7"
  }
 },
 "nbformat": 4,
 "nbformat_minor": 2
}
